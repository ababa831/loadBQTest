{
 "cells": [
  {
   "cell_type": "markdown",
   "metadata": {},
   "source": [
    "# This notebook tests how to load data stored in BigQuery on Datalab notebook"
   ]
  },
  {
   "cell_type": "markdown",
   "metadata": {},
   "source": [
    "## Load \"publicdata.samples.natality\" data on this notebook"
   ]
  },
  {
   "cell_type": "markdown",
   "metadata": {},
   "source": [
    "#### SQL クエリの投げ方：\n",
    "1. %% bq query　マジックコードで、これ以降クエリを投げる宣言\n",
    "2. SELECT文で、先にしたい操作を書く\n",
    "3. FROM文で、どこのデータを引っ張ってくるか指定\n",
    "4. 以降、グループ分け・順序・表示行数等を指定\n"
   ]
  },
  {
   "cell_type": "code",
   "execution_count": 1,
   "metadata": {
    "collapsed": false
   },
   "outputs": [
    {
     "data": {
      "text/html": [
       "\n",
       "          <script src=\"/static/components/requirejs/require.js\"></script>\n",
       "          <script>\n",
       "            requirejs.config({\n",
       "              paths: {\n",
       "                base: '/static/base',\n",
       "              },\n",
       "            });\n",
       "          </script>\n",
       "          "
      ],
      "text/plain": [
       "<IPython.core.display.HTML object>"
      ]
     },
     "metadata": {},
     "output_type": "display_data"
    },
    {
     "data": {
      "text/html": [
       "\n",
       "    <div class=\"bqtv\" id=\"1_151261279126\"><table><tr><th>year</th><th>birth_count</th></tr><tr><td>2008</td><td>4255156</td></tr><tr><td>2007</td><td>4324008</td></tr><tr><td>2006</td><td>4273225</td></tr><tr><td>2005</td><td>4145619</td></tr><tr><td>2004</td><td>4118907</td></tr><tr><td>2003</td><td>4096092</td></tr><tr><td>2002</td><td>4027376</td></tr><tr><td>2001</td><td>4031531</td></tr><tr><td>2000</td><td>4063823</td></tr><tr><td>1999</td><td>3963465</td></tr><tr><td>1998</td><td>3945192</td></tr><tr><td>1997</td><td>3884329</td></tr><tr><td>1996</td><td>3894874</td></tr><tr><td>1995</td><td>3903012</td></tr><tr><td>1994</td><td>3956925</td></tr></table></div>\n",
       "    <br />(rows: 15, time: 3.6s,     1GB processed, job: job_BTYd4mOJgU-q88EQ9U_YvBRlaSAK)<br />\n",
       "    <script>\n",
       "\n",
       "      require.config({\n",
       "        paths: {\n",
       "          d3: '//cdnjs.cloudflare.com/ajax/libs/d3/3.4.13/d3',\n",
       "          plotly: 'https://cdn.plot.ly/plotly-1.5.1.min.js?noext',\n",
       "          jquery: '//ajax.googleapis.com/ajax/libs/jquery/2.0.0/jquery.min'\n",
       "        },\n",
       "        map: {\n",
       "          '*': {\n",
       "            datalab: 'nbextensions/gcpdatalab'\n",
       "          }\n",
       "        },\n",
       "        shim: {\n",
       "          plotly: {\n",
       "            deps: ['d3', 'jquery'],\n",
       "            exports: 'plotly'\n",
       "          }\n",
       "        }\n",
       "      });\n",
       "\n",
       "      require(['datalab/charting', 'datalab/element!1_151261279126', 'base/js/events',\n",
       "          'datalab/style!/nbextensions/gcpdatalab/charting.css'],\n",
       "        function(charts, dom, events) {\n",
       "          charts.render('gcharts', dom, events, 'table', [], {\"rows\": [{\"c\": [{\"v\": \"2008\"}, {\"v\": 4255156}]}, {\"c\": [{\"v\": \"2007\"}, {\"v\": 4324008}]}, {\"c\": [{\"v\": \"2006\"}, {\"v\": 4273225}]}, {\"c\": [{\"v\": \"2005\"}, {\"v\": 4145619}]}, {\"c\": [{\"v\": \"2004\"}, {\"v\": 4118907}]}, {\"c\": [{\"v\": \"2003\"}, {\"v\": 4096092}]}, {\"c\": [{\"v\": \"2002\"}, {\"v\": 4027376}]}, {\"c\": [{\"v\": \"2001\"}, {\"v\": 4031531}]}, {\"c\": [{\"v\": \"2000\"}, {\"v\": 4063823}]}, {\"c\": [{\"v\": \"1999\"}, {\"v\": 3963465}]}, {\"c\": [{\"v\": \"1998\"}, {\"v\": 3945192}]}, {\"c\": [{\"v\": \"1997\"}, {\"v\": 3884329}]}, {\"c\": [{\"v\": \"1996\"}, {\"v\": 3894874}]}, {\"c\": [{\"v\": \"1995\"}, {\"v\": 3903012}]}, {\"c\": [{\"v\": \"1994\"}, {\"v\": 3956925}]}], \"cols\": [{\"type\": \"string\", \"id\": \"year\", \"label\": \"year\"}, {\"type\": \"number\", \"id\": \"birth_count\", \"label\": \"birth_count\"}]},\n",
       "            {\n",
       "              pageSize: 25,\n",
       "              cssClassNames:  {\n",
       "                tableRow: 'gchart-table-row',\n",
       "                headerRow: 'gchart-table-headerrow',\n",
       "                oddTableRow: 'gchart-table-oddrow',\n",
       "                selectedTableRow: 'gchart-table-selectedrow',\n",
       "                hoverTableRow: 'gchart-table-hoverrow',\n",
       "                tableCell: 'gchart-table-cell',\n",
       "                headerCell: 'gchart-table-headercell',\n",
       "                rowNumberCell: 'gchart-table-rownumcell'\n",
       "              }\n",
       "            },\n",
       "            {source_index: 0, fields: 'year,birth_count'},\n",
       "            0,\n",
       "            15);\n",
       "        }\n",
       "      );\n",
       "    </script>\n",
       "  "
      ],
      "text/plain": [
       "QueryResultsTable job_BTYd4mOJgU-q88EQ9U_YvBRlaSAK"
      ]
     },
     "execution_count": 1,
     "metadata": {},
     "output_type": "execute_result"
    }
   ],
   "source": [
    "%%bq query\n",
    "#SQL query to return total births by year\n",
    "SELECT CAST(source_year AS string) AS year, COUNT(is_male) AS birth_count # CAST: cast intenger to string\n",
    "FROM `publicdata.samples.natality`\n",
    "GROUP BY year\n",
    "ORDER BY year DESC # 降順 descending order\n",
    "LIMIT 15 # show 15 rows"
   ]
  },
  {
   "cell_type": "markdown",
   "metadata": {},
   "source": [
    "## Add \"--name\" flag"
   ]
  },
  {
   "cell_type": "markdown",
   "metadata": {},
   "source": [
    "The query objct is passed to **\"total_births\"**, and the name is used to show a bar graph"
   ]
  },
  {
   "cell_type": "code",
   "execution_count": 3,
   "metadata": {
    "collapsed": false
   },
   "outputs": [
    {
     "data": {
      "text/html": [
       "\n",
       "          <script src=\"/static/components/requirejs/require.js\"></script>\n",
       "          <script>\n",
       "            requirejs.config({\n",
       "              paths: {\n",
       "                base: '/static/base',\n",
       "              },\n",
       "            });\n",
       "          </script>\n",
       "          "
      ],
      "text/plain": [
       "<IPython.core.display.HTML object>"
      ]
     },
     "metadata": {},
     "output_type": "display_data"
    }
   ],
   "source": [
    "%%bq query --name total_births \n",
    "# SQL query to return total births by year\n",
    "SELECT CAST(source_year AS string) AS year, COUNT(is_male) AS birth_count\n",
    "FROM `publicdata.samples.natality`\n",
    "GROUP BY year\n",
    "ORDER BY year DESC\n",
    "LIMIT 15"
   ]
  },
  {
   "cell_type": "markdown",
   "metadata": {},
   "source": [
    "### Show a bar graph"
   ]
  },
  {
   "cell_type": "code",
   "execution_count": 5,
   "metadata": {
    "collapsed": false
   },
   "outputs": [
    {
     "data": {
      "text/html": [
       "\n",
       "          <script src=\"/static/components/requirejs/require.js\"></script>\n",
       "          <script>\n",
       "            requirejs.config({\n",
       "              paths: {\n",
       "                base: '/static/base',\n",
       "              },\n",
       "            });\n",
       "          </script>\n",
       "          "
      ],
      "text/plain": [
       "<IPython.core.display.HTML object>"
      ]
     },
     "metadata": {},
     "output_type": "display_data"
    },
    {
     "data": {
      "text/html": [
       "\n",
       "    <div class=\"bqgc-container\">\n",
       "      \n",
       "      <div class=\"bqgc \" id=\"1_151261374282\">\n",
       "      </div>\n",
       "    </div>\n",
       "    <script>\n",
       "\n",
       "      require.config({\n",
       "        paths: {\n",
       "          d3: '//cdnjs.cloudflare.com/ajax/libs/d3/3.4.13/d3',\n",
       "          plotly: 'https://cdn.plot.ly/plotly-1.5.1.min.js?noext',\n",
       "          jquery: '//ajax.googleapis.com/ajax/libs/jquery/2.0.0/jquery.min'\n",
       "        },\n",
       "        map: {\n",
       "          '*': {\n",
       "            datalab: 'nbextensions/gcpdatalab'\n",
       "          }\n",
       "        },\n",
       "        shim: {\n",
       "          plotly: {\n",
       "            deps: ['d3', 'jquery'],\n",
       "            exports: 'plotly'\n",
       "          }\n",
       "        }\n",
       "      });\n",
       "\n",
       "      require(['datalab/charting',\n",
       "               'datalab/element!1_151261374282',\n",
       "               'base/js/events',\n",
       "               'datalab/style!/nbextensions/gcpdatalab/charting.css'\n",
       "              ],\n",
       "        function(charts, dom, events) {\n",
       "          charts.render(\n",
       "              'gcharts',\n",
       "              dom,\n",
       "              events,\n",
       "              'columns',\n",
       "              [],\n",
       "              {\"rows\": [{\"c\": [{\"v\": \"2008\"}, {\"v\": 4255156}]}, {\"c\": [{\"v\": \"2007\"}, {\"v\": 4324008}]}, {\"c\": [{\"v\": \"2006\"}, {\"v\": 4273225}]}, {\"c\": [{\"v\": \"2005\"}, {\"v\": 4145619}]}, {\"c\": [{\"v\": \"2004\"}, {\"v\": 4118907}]}, {\"c\": [{\"v\": \"2003\"}, {\"v\": 4096092}]}, {\"c\": [{\"v\": \"2002\"}, {\"v\": 4027376}]}, {\"c\": [{\"v\": \"2001\"}, {\"v\": 4031531}]}, {\"c\": [{\"v\": \"2000\"}, {\"v\": 4063823}]}, {\"c\": [{\"v\": \"1999\"}, {\"v\": 3963465}]}, {\"c\": [{\"v\": \"1998\"}, {\"v\": 3945192}]}, {\"c\": [{\"v\": \"1997\"}, {\"v\": 3884329}]}, {\"c\": [{\"v\": \"1996\"}, {\"v\": 3894874}]}, {\"c\": [{\"v\": \"1995\"}, {\"v\": 3903012}]}, {\"c\": [{\"v\": \"1994\"}, {\"v\": 3956925}]}], \"cols\": [{\"type\": \"string\", \"id\": \"year\", \"label\": \"year\"}, {\"type\": \"number\", \"id\": \"birth_count\", \"label\": \"birth_count\"}]},\n",
       "              {},\n",
       "              {\"fields\": \"year,birth_count\", \"source_index\": 0, \"name\": 0},\n",
       "              0,\n",
       "              15);\n",
       "          }\n",
       "        );\n",
       "    </script>\n",
       "  "
      ],
      "text/plain": [
       "<IPython.core.display.HTML object>"
      ]
     },
     "execution_count": 5,
     "metadata": {},
     "output_type": "execute_result"
    },
    {
     "data": {
      "image/png": "[encoded data removed]"
     },
     "metadata": {
      "source_id": "1_151261374282"
     },
     "output_type": "display_data"
    }
   ],
   "source": [
    "%chart columns --data total_births --fields year,birth_count # Don't make a space between \"year\" and \"birth_count\" "
   ]
  },
  {
   "cell_type": "markdown",
   "metadata": {},
   "source": [
    "The bar graph shows **\"year\" vs. \"birth_count\"** contained in the **\"total_births\"** object"
   ]
  },
  {
   "cell_type": "markdown",
   "metadata": {},
   "source": [
    "## Get \"birth_count\" grouped by weekday"
   ]
  },
  {
   "cell_type": "code",
   "execution_count": 6,
   "metadata": {
    "collapsed": false
   },
   "outputs": [
    {
     "data": {
      "text/html": [
       "\n",
       "          <script src=\"/static/components/requirejs/require.js\"></script>\n",
       "          <script>\n",
       "            requirejs.config({\n",
       "              paths: {\n",
       "                base: '/static/base',\n",
       "              },\n",
       "            });\n",
       "          </script>\n",
       "          "
      ],
      "text/plain": [
       "<IPython.core.display.HTML object>"
      ]
     },
     "metadata": {},
     "output_type": "display_data"
    }
   ],
   "source": [
    "%%bq query --name births_by_weekday\n",
    "SELECT CAST(wday AS string) AS weekday, SUM(CASE WHEN is_male THEN 1 ELSE 0 END) AS male_births, SUM(CASE WHEN is_male THEN 0 ELSE 1 END) AS female_births\n",
    "FROM `publicdata.samples.natality`\n",
    "WHERE wday IS NOT NULL\n",
    "GROUP BY weekday\n",
    "ORDER BY weekday ASC # 昇順 Ascending order"
   ]
  },
  {
   "cell_type": "markdown",
   "metadata": {},
   "source": [
    "### Show a chart line graph "
   ]
  },
  {
   "cell_type": "code",
   "execution_count": 7,
   "metadata": {
    "collapsed": false
   },
   "outputs": [
    {
     "data": {
      "text/html": [
       "\n",
       "          <script src=\"/static/components/requirejs/require.js\"></script>\n",
       "          <script>\n",
       "            requirejs.config({\n",
       "              paths: {\n",
       "                base: '/static/base',\n",
       "              },\n",
       "            });\n",
       "          </script>\n",
       "          "
      ],
      "text/plain": [
       "<IPython.core.display.HTML object>"
      ]
     },
     "metadata": {},
     "output_type": "display_data"
    },
    {
     "data": {
      "text/html": [
       "\n",
       "    <div class=\"bqgc-container\">\n",
       "      \n",
       "      <div class=\"bqgc \" id=\"2_151261572639\">\n",
       "      </div>\n",
       "    </div>\n",
       "    <script>\n",
       "\n",
       "      require.config({\n",
       "        paths: {\n",
       "          d3: '//cdnjs.cloudflare.com/ajax/libs/d3/3.4.13/d3',\n",
       "          plotly: 'https://cdn.plot.ly/plotly-1.5.1.min.js?noext',\n",
       "          jquery: '//ajax.googleapis.com/ajax/libs/jquery/2.0.0/jquery.min'\n",
       "        },\n",
       "        map: {\n",
       "          '*': {\n",
       "            datalab: 'nbextensions/gcpdatalab'\n",
       "          }\n",
       "        },\n",
       "        shim: {\n",
       "          plotly: {\n",
       "            deps: ['d3', 'jquery'],\n",
       "            exports: 'plotly'\n",
       "          }\n",
       "        }\n",
       "      });\n",
       "\n",
       "      require(['datalab/charting',\n",
       "               'datalab/element!2_151261572639',\n",
       "               'base/js/events',\n",
       "               'datalab/style!/nbextensions/gcpdatalab/charting.css'\n",
       "              ],\n",
       "        function(charts, dom, events) {\n",
       "          charts.render(\n",
       "              'gcharts',\n",
       "              dom,\n",
       "              events,\n",
       "              'line',\n",
       "              [],\n",
       "              {\"rows\": [{\"c\": [{\"v\": \"1\"}, {\"v\": 4093357}, {\"v\": 4293575}]}, {\"c\": [{\"v\": \"2\"}, {\"v\": 5831111}, {\"v\": 6095840}]}, {\"c\": [{\"v\": \"3\"}, {\"v\": 6412155}, {\"v\": 6727217}]}, {\"c\": [{\"v\": \"4\"}, {\"v\": 6307782}, {\"v\": 6618729}]}, {\"c\": [{\"v\": \"5\"}, {\"v\": 6284434}, {\"v\": 6583015}]}, {\"c\": [{\"v\": \"6\"}, {\"v\": 6223584}, {\"v\": 6518636}]}, {\"c\": [{\"v\": \"7\"}, {\"v\": 4530052}, {\"v\": 4761950}]}], \"cols\": [{\"type\": \"string\", \"id\": \"weekday\", \"label\": \"weekday\"}, {\"type\": \"number\", \"id\": \"female_births\", \"label\": \"female_births\"}, {\"type\": \"number\", \"id\": \"male_births\", \"label\": \"male_births\"}]},\n",
       "              {},\n",
       "              {\"fields\": \"weekday,female_births,male_births\", \"source_index\": 1, \"name\": 1},\n",
       "              0,\n",
       "              7);\n",
       "          }\n",
       "        );\n",
       "    </script>\n",
       "  "
      ],
      "text/plain": [
       "<IPython.core.display.HTML object>"
      ]
     },
     "execution_count": 7,
     "metadata": {},
     "output_type": "execute_result"
    },
    {
     "data": {
      "image/png": "[encoded data removed]"
     },
     "metadata": {
      "source_id": "2_151261572639"
     },
     "output_type": "display_data"
    }
   ],
   "source": [
    "%chart line --data births_by_weekday --fields weekday,female_births,male_births"
   ]
  },
  {
   "cell_type": "markdown",
   "metadata": {},
   "source": [
    "# Visualize BigQuery data by Pandas DataFrame"
   ]
  },
  {
   "cell_type": "markdown",
   "metadata": {},
   "source": [
    "## Run a query using BigQuery API "
   ]
  },
  {
   "cell_type": "code",
   "execution_count": 9,
   "metadata": {
    "collapsed": false
   },
   "outputs": [
    {
     "data": {
      "text/html": [
       "\n",
       "          <script src=\"/static/components/requirejs/require.js\"></script>\n",
       "          <script>\n",
       "            requirejs.config({\n",
       "              paths: {\n",
       "                base: '/static/base',\n",
       "              },\n",
       "            });\n",
       "          </script>\n",
       "          "
      ],
      "text/plain": [
       "<IPython.core.display.HTML object>"
      ]
     },
     "metadata": {},
     "output_type": "display_data"
    }
   ],
   "source": [
    "import google.datalab.bigquery as bq\n",
    "import pandas as pd"
   ]
  },
  {
   "cell_type": "code",
   "execution_count": 11,
   "metadata": {
    "collapsed": false
   },
   "outputs": [
    {
     "data": {
      "text/html": [
       "\n",
       "          <script src=\"/static/components/requirejs/require.js\"></script>\n",
       "          <script>\n",
       "            requirejs.config({\n",
       "              paths: {\n",
       "                base: '/static/base',\n",
       "              },\n",
       "            });\n",
       "          </script>\n",
       "          "
      ],
      "text/plain": [
       "<IPython.core.display.HTML object>"
      ]
     },
     "metadata": {},
     "output_type": "display_data"
    },
    {
     "data": {
      "text/html": [
       "<div>\n",
       "<table border=\"1\" class=\"dataframe\">\n",
       "  <thead>\n",
       "    <tr style=\"text-align: right;\">\n",
       "      <th></th>\n",
       "      <th>year</th>\n",
       "      <th>birth_count</th>\n",
       "    </tr>\n",
       "  </thead>\n",
       "  <tbody>\n",
       "    <tr>\n",
       "      <th>0</th>\n",
       "      <td>2008</td>\n",
       "      <td>4255156</td>\n",
       "    </tr>\n",
       "    <tr>\n",
       "      <th>1</th>\n",
       "      <td>2007</td>\n",
       "      <td>4324008</td>\n",
       "    </tr>\n",
       "    <tr>\n",
       "      <th>2</th>\n",
       "      <td>2006</td>\n",
       "      <td>4273225</td>\n",
       "    </tr>\n",
       "    <tr>\n",
       "      <th>3</th>\n",
       "      <td>2005</td>\n",
       "      <td>4145619</td>\n",
       "    </tr>\n",
       "    <tr>\n",
       "      <th>4</th>\n",
       "      <td>2004</td>\n",
       "      <td>4118907</td>\n",
       "    </tr>\n",
       "    <tr>\n",
       "      <th>5</th>\n",
       "      <td>2003</td>\n",
       "      <td>4096092</td>\n",
       "    </tr>\n",
       "    <tr>\n",
       "      <th>6</th>\n",
       "      <td>2002</td>\n",
       "      <td>4027376</td>\n",
       "    </tr>\n",
       "    <tr>\n",
       "      <th>7</th>\n",
       "      <td>2001</td>\n",
       "      <td>4031531</td>\n",
       "    </tr>\n",
       "    <tr>\n",
       "      <th>8</th>\n",
       "      <td>2000</td>\n",
       "      <td>4063823</td>\n",
       "    </tr>\n",
       "    <tr>\n",
       "      <th>9</th>\n",
       "      <td>1999</td>\n",
       "      <td>3963465</td>\n",
       "    </tr>\n",
       "  </tbody>\n",
       "</table>\n",
       "</div>"
      ],
      "text/plain": [
       "   year  birth_count\n",
       "0  2008      4255156\n",
       "1  2007      4324008\n",
       "2  2006      4273225\n",
       "3  2005      4145619\n",
       "4  2004      4118907\n",
       "5  2003      4096092\n",
       "6  2002      4027376\n",
       "7  2001      4031531\n",
       "8  2000      4063823\n",
       "9  1999      3963465"
      ]
     },
     "execution_count": 11,
     "metadata": {},
     "output_type": "execute_result"
    }
   ],
   "source": [
    "total_births = bq.Query('SELECT CAST(source_year AS string) AS year, COUNT(is_male) AS birth_count FROM `publicdata.samples.natality` GROUP BY year ORDER BY year DESC LIMIT 15')\n",
    "df = total_births.execute(output_options=bq.QueryOutput.dataframe()).result() # convert total_births to DataFrame and return result\n",
    "df.head(10) # show 10 rows"
   ]
  },
  {
   "cell_type": "markdown",
   "metadata": {},
   "source": [
    "## Show a bar graph using \"df.plot\""
   ]
  },
  {
   "cell_type": "code",
   "execution_count": 12,
   "metadata": {
    "collapsed": false
   },
   "outputs": [
    {
     "data": {
      "text/html": [
       "\n",
       "          <script src=\"/static/components/requirejs/require.js\"></script>\n",
       "          <script>\n",
       "            requirejs.config({\n",
       "              paths: {\n",
       "                base: '/static/base',\n",
       "              },\n",
       "            });\n",
       "          </script>\n",
       "          "
      ],
      "text/plain": [
       "<IPython.core.display.HTML object>"
      ]
     },
     "metadata": {},
     "output_type": "display_data"
    },
    {
     "data": {
      "text/plain": [
       "<matplotlib.text.Text at 0x7fa095101590>"
      ]
     },
     "execution_count": 12,
     "metadata": {},
     "output_type": "execute_result"
    },
    {
     "data": {
      "image/png": "[encoded data removed]",
      "text/plain": [
       "<matplotlib.figure.Figure at 0x7fa09526d710>"
      ]
     },
     "metadata": {},
     "output_type": "display_data"
    }
   ],
   "source": [
    "ax = df.plot(kind='bar', x='year', title='Total births by year')\n",
    "ax.set_xlabel('Year')\n",
    "ax.set_ylabel('Birth count')"
   ]
  },
  {
   "cell_type": "markdown",
   "metadata": {},
   "source": [
    "# Get birth_count data grouped by weekday "
   ]
  },
  {
   "cell_type": "markdown",
   "metadata": {},
   "source": [
    "## Run a query using BigQuery API "
   ]
  },
  {
   "cell_type": "code",
   "execution_count": 13,
   "metadata": {
    "collapsed": false
   },
   "outputs": [
    {
     "data": {
      "text/html": [
       "\n",
       "          <script src=\"/static/components/requirejs/require.js\"></script>\n",
       "          <script>\n",
       "            requirejs.config({\n",
       "              paths: {\n",
       "                base: '/static/base',\n",
       "              },\n",
       "            });\n",
       "          </script>\n",
       "          "
      ],
      "text/plain": [
       "<IPython.core.display.HTML object>"
      ]
     },
     "metadata": {},
     "output_type": "display_data"
    }
   ],
   "source": [
    "births_by_weekday = bq.Query('SELECT CAST(wday AS string) AS weekday, SUM(CASE WHEN is_male THEN 1 ELSE 0 END) AS male_births, SUM(CASE WHEN is_male THEN 0 ELSE 1 END) AS female_births FROM `publicdata.samples.natality` WHERE wday IS NOT NULL GROUP BY weekday ORDER BY weekday ASC')\n",
    "df2 = births_by_weekday.execute(output_options=bq.QueryOutput.dataframe()).result()"
   ]
  },
  {
   "cell_type": "markdown",
   "metadata": {},
   "source": [
    "## Show a chart line graph using \"df.plot\""
   ]
  },
  {
   "cell_type": "code",
   "execution_count": 14,
   "metadata": {
    "collapsed": false
   },
   "outputs": [
    {
     "data": {
      "text/html": [
       "\n",
       "          <script src=\"/static/components/requirejs/require.js\"></script>\n",
       "          <script>\n",
       "            requirejs.config({\n",
       "              paths: {\n",
       "                base: '/static/base',\n",
       "              },\n",
       "            });\n",
       "          </script>\n",
       "          "
      ],
      "text/plain": [
       "<IPython.core.display.HTML object>"
      ]
     },
     "metadata": {},
     "output_type": "display_data"
    },
    {
     "data": {
      "text/plain": [
       "<matplotlib.text.Text at 0x7fa0947ec0d0>"
      ]
     },
     "execution_count": 14,
     "metadata": {},
     "output_type": "execute_result"
    },
    {
     "data": {
      "image/png": "[encoded data removed]",
      "text/plain": [
       "<matplotlib.figure.Figure at 0x7fa095efdf10>"
      ]
     },
     "metadata": {},
     "output_type": "display_data"
    }
   ],
   "source": [
    "ax = df2.plot(kind='line', x='weekday', title='Births by weekday')\n",
    "ax.set_xlabel('Weekday')\n",
    "ax.set_ylabel('Total')"
   ]
  },
  {
   "cell_type": "code",
   "execution_count": null,
   "metadata": {
    "collapsed": true
   },
   "outputs": [],
   "source": []
  }
 ],
 "metadata": {
  "kernelspec": {
   "display_name": "Python 2",
   "language": "python",
   "name": "python2"
  },
  "language_info": {
   "codemirror_mode": {
    "name": "ipython",
    "version": 2
   },
   "file_extension": ".py",
   "mimetype": "text/x-python",
   "name": "python",
   "nbconvert_exporter": "python",
   "pygments_lexer": "ipython2",
   "version": "2.7.12"
  }
 },
 "nbformat": 4,
 "nbformat_minor": 2
}
